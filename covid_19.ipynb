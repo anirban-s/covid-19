{
 "cells": [
  {
   "cell_type": "code",
   "execution_count": 89,
   "metadata": {},
   "outputs": [],
   "source": [
    "import pandas as pd\n",
    "import numpy as np\n",
    "import matplotlib.pyplot as plt\n",
    "import seaborn as sns\n",
    "import sklearn "
   ]
  },
  {
   "cell_type": "code",
   "execution_count": 90,
   "metadata": {},
   "outputs": [
    {
     "data": {
      "text/plain": [
       "(6883, 1)"
      ]
     },
     "execution_count": 90,
     "metadata": {},
     "output_type": "execute_result"
    }
   ],
   "source": [
    "df = pd.read_json('https://api.covid19india.org/raw_data.json', orient='columns')\n",
    "df.shape"
   ]
  },
  {
   "cell_type": "code",
   "execution_count": 91,
   "metadata": {},
   "outputs": [
    {
     "data": {
      "text/html": [
       "<div>\n",
       "<style scoped>\n",
       "    .dataframe tbody tr th:only-of-type {\n",
       "        vertical-align: middle;\n",
       "    }\n",
       "\n",
       "    .dataframe tbody tr th {\n",
       "        vertical-align: top;\n",
       "    }\n",
       "\n",
       "    .dataframe thead th {\n",
       "        text-align: right;\n",
       "    }\n",
       "</style>\n",
       "<table border=\"1\" class=\"dataframe\">\n",
       "  <thead>\n",
       "    <tr style=\"text-align: right;\">\n",
       "      <th></th>\n",
       "      <th>raw_data</th>\n",
       "    </tr>\n",
       "  </thead>\n",
       "  <tbody>\n",
       "    <tr>\n",
       "      <th>0</th>\n",
       "      <td>{'agebracket': '20', 'backupnotes': 'Student f...</td>\n",
       "    </tr>\n",
       "    <tr>\n",
       "      <th>1</th>\n",
       "      <td>{'agebracket': '', 'backupnotes': 'Student fro...</td>\n",
       "    </tr>\n",
       "    <tr>\n",
       "      <th>2</th>\n",
       "      <td>{'agebracket': '', 'backupnotes': 'Student fro...</td>\n",
       "    </tr>\n",
       "    <tr>\n",
       "      <th>3</th>\n",
       "      <td>{'agebracket': '45', 'backupnotes': 'Travel hi...</td>\n",
       "    </tr>\n",
       "    <tr>\n",
       "      <th>4</th>\n",
       "      <td>{'agebracket': '24', 'backupnotes': 'Travel hi...</td>\n",
       "    </tr>\n",
       "  </tbody>\n",
       "</table>\n",
       "</div>"
      ],
      "text/plain": [
       "                                            raw_data\n",
       "0  {'agebracket': '20', 'backupnotes': 'Student f...\n",
       "1  {'agebracket': '', 'backupnotes': 'Student fro...\n",
       "2  {'agebracket': '', 'backupnotes': 'Student fro...\n",
       "3  {'agebracket': '45', 'backupnotes': 'Travel hi...\n",
       "4  {'agebracket': '24', 'backupnotes': 'Travel hi..."
      ]
     },
     "execution_count": 91,
     "metadata": {},
     "output_type": "execute_result"
    }
   ],
   "source": [
    "df.head()"
   ]
  },
  {
   "cell_type": "code",
   "execution_count": 92,
   "metadata": {},
   "outputs": [],
   "source": [
    "from collections import defaultdict "
   ]
  },
  {
   "cell_type": "code",
   "execution_count": 93,
   "metadata": {},
   "outputs": [],
   "source": [
    "new_dict = defaultdict(list) "
   ]
  },
  {
   "cell_type": "code",
   "execution_count": 94,
   "metadata": {
    "scrolled": false
   },
   "outputs": [],
   "source": [
    "for i in df['raw_data']:\n",
    "    for k,v in i.items():\n",
    "        if k == 'agebracket':\n",
    "            new_dict['agebracket'].append(v)\n",
    "        elif k == 'backupnotes':\n",
    "            new_dict['backupnotes'].append(v)\n",
    "        elif k == 'contractedfromwhichpatientsuspected':\n",
    "            new_dict['contractedfromwhichpatientsuspected'].append(v)\n",
    "        elif k == 'currentstatus':\n",
    "            new_dict['currentstatus'].append(v)\n",
    "        elif k == 'dateannounced':\n",
    "            new_dict['dateannounced'].append(v)\n",
    "        elif k == 'detectedcity':\n",
    "            new_dict['detectedcity'].append(v)\n",
    "        elif k == 'detecteddistrict':\n",
    "            new_dict['detecteddistrict'].append(v)\n",
    "        elif k == 'detectedstate':\n",
    "            new_dict['detectedstate'].append(v)\n",
    "        elif k == 'estimatedonsetdate':\n",
    "            new_dict['estimatedonsetdate'].append(v)\n",
    "        elif k == 'gender':\n",
    "            new_dict['gender'].append(v)\n",
    "        elif k == 'nationality':\n",
    "            new_dict['nationality'].append(v)\n",
    "        elif k == 'notes':\n",
    "            new_dict['notes'].append(v)\n",
    "        elif k == 'patientnumber':\n",
    "            new_dict['patientnumber'].append(v)\n",
    "        elif k == 'source1':\n",
    "            new_dict['source1'].append(v)\n",
    "        elif k == 'source2':\n",
    "            new_dict['source2'].append(v)\n",
    "        elif k == 'source3':\n",
    "            new_dict['source3'].append(v)\n",
    "        elif k == 'statecode':\n",
    "            new_dict['statecode'].append(v)\n",
    "        elif k == 'statepatientnumber':\n",
    "            new_dict['statepatientnumber'].append(v)\n",
    "        elif k == 'statuschangedate':\n",
    "            new_dict['statuschangedate'].append(v)\n",
    "        elif k == 'typeoftransmission':\n",
    "            new_dict['typeoftransmission'].append(v)\n",
    "    \n",
    "           "
   ]
  },
  {
   "cell_type": "code",
   "execution_count": 95,
   "metadata": {},
   "outputs": [
    {
     "data": {
      "text/html": [
       "<div>\n",
       "<style scoped>\n",
       "    .dataframe tbody tr th:only-of-type {\n",
       "        vertical-align: middle;\n",
       "    }\n",
       "\n",
       "    .dataframe tbody tr th {\n",
       "        vertical-align: top;\n",
       "    }\n",
       "\n",
       "    .dataframe thead th {\n",
       "        text-align: right;\n",
       "    }\n",
       "</style>\n",
       "<table border=\"1\" class=\"dataframe\">\n",
       "  <thead>\n",
       "    <tr style=\"text-align: right;\">\n",
       "      <th></th>\n",
       "      <th>agebracket</th>\n",
       "      <th>backupnotes</th>\n",
       "      <th>contractedfromwhichpatientsuspected</th>\n",
       "      <th>currentstatus</th>\n",
       "      <th>dateannounced</th>\n",
       "      <th>detectedcity</th>\n",
       "      <th>detecteddistrict</th>\n",
       "      <th>detectedstate</th>\n",
       "      <th>estimatedonsetdate</th>\n",
       "      <th>gender</th>\n",
       "      <th>nationality</th>\n",
       "      <th>notes</th>\n",
       "      <th>patientnumber</th>\n",
       "      <th>source1</th>\n",
       "      <th>source2</th>\n",
       "      <th>source3</th>\n",
       "      <th>statecode</th>\n",
       "      <th>statepatientnumber</th>\n",
       "      <th>statuschangedate</th>\n",
       "      <th>typeoftransmission</th>\n",
       "    </tr>\n",
       "  </thead>\n",
       "  <tbody>\n",
       "    <tr>\n",
       "      <th>0</th>\n",
       "      <td>20</td>\n",
       "      <td>Student from Wuhan</td>\n",
       "      <td></td>\n",
       "      <td>Recovered</td>\n",
       "      <td>30/01/2020</td>\n",
       "      <td>Thrissur</td>\n",
       "      <td>Thrissur</td>\n",
       "      <td>Kerala</td>\n",
       "      <td></td>\n",
       "      <td>F</td>\n",
       "      <td>India</td>\n",
       "      <td>Travelled from Wuhan</td>\n",
       "      <td>1</td>\n",
       "      <td>https://twitter.com/vijayanpinarayi/status/122...</td>\n",
       "      <td>https://weather.com/en-IN/india/news/news/2020...</td>\n",
       "      <td></td>\n",
       "      <td>KL</td>\n",
       "      <td>KL-TS-P1</td>\n",
       "      <td>14/02/2020</td>\n",
       "      <td>Imported</td>\n",
       "    </tr>\n",
       "    <tr>\n",
       "      <th>1</th>\n",
       "      <td></td>\n",
       "      <td>Student from Wuhan</td>\n",
       "      <td></td>\n",
       "      <td>Recovered</td>\n",
       "      <td>02/02/2020</td>\n",
       "      <td>Alappuzha</td>\n",
       "      <td>Alappuzha</td>\n",
       "      <td>Kerala</td>\n",
       "      <td></td>\n",
       "      <td></td>\n",
       "      <td>India</td>\n",
       "      <td>Travelled from Wuhan</td>\n",
       "      <td>2</td>\n",
       "      <td>https://www.indiatoday.in/india/story/kerala-r...</td>\n",
       "      <td>https://weather.com/en-IN/india/news/news/2020...</td>\n",
       "      <td></td>\n",
       "      <td>KL</td>\n",
       "      <td>KL-AL-P1</td>\n",
       "      <td>14/02/2020</td>\n",
       "      <td>Imported</td>\n",
       "    </tr>\n",
       "    <tr>\n",
       "      <th>2</th>\n",
       "      <td></td>\n",
       "      <td>Student from Wuhan</td>\n",
       "      <td></td>\n",
       "      <td>Recovered</td>\n",
       "      <td>03/02/2020</td>\n",
       "      <td>Kasaragod</td>\n",
       "      <td>Kasaragod</td>\n",
       "      <td>Kerala</td>\n",
       "      <td></td>\n",
       "      <td></td>\n",
       "      <td>India</td>\n",
       "      <td>Travelled from Wuhan</td>\n",
       "      <td>3</td>\n",
       "      <td>https://www.indiatoday.in/india/story/kerala-n...</td>\n",
       "      <td>https://twitter.com/ANI/status/122422148580539...</td>\n",
       "      <td>https://weather.com/en-IN/india/news/news/2020...</td>\n",
       "      <td>KL</td>\n",
       "      <td>KL-KS-P1</td>\n",
       "      <td>14/02/2020</td>\n",
       "      <td>Imported</td>\n",
       "    </tr>\n",
       "    <tr>\n",
       "      <th>3</th>\n",
       "      <td>45</td>\n",
       "      <td>Travel history to Italy and Austria</td>\n",
       "      <td></td>\n",
       "      <td>Recovered</td>\n",
       "      <td>02/03/2020</td>\n",
       "      <td>East Delhi (Mayur Vihar)</td>\n",
       "      <td>East Delhi</td>\n",
       "      <td>Delhi</td>\n",
       "      <td></td>\n",
       "      <td>M</td>\n",
       "      <td>India</td>\n",
       "      <td>Travelled from Austria, Italy</td>\n",
       "      <td>4</td>\n",
       "      <td>https://www.indiatoday.in/india/story/not-a-ja...</td>\n",
       "      <td>https://economictimes.indiatimes.com/news/poli...</td>\n",
       "      <td></td>\n",
       "      <td>DL</td>\n",
       "      <td>DL-P1</td>\n",
       "      <td>15/03/2020</td>\n",
       "      <td>Imported</td>\n",
       "    </tr>\n",
       "    <tr>\n",
       "      <th>4</th>\n",
       "      <td>24</td>\n",
       "      <td>Travel history to Dubai, Singapore contact</td>\n",
       "      <td></td>\n",
       "      <td>Recovered</td>\n",
       "      <td>02/03/2020</td>\n",
       "      <td>Hyderabad</td>\n",
       "      <td>Hyderabad</td>\n",
       "      <td>Telangana</td>\n",
       "      <td></td>\n",
       "      <td>M</td>\n",
       "      <td>India</td>\n",
       "      <td>Travelled from Dubai to Bangalore on 20th Feb,...</td>\n",
       "      <td>5</td>\n",
       "      <td>https://www.deccanherald.com/national/south/qu...</td>\n",
       "      <td>https://www.indiatoday.in/india/story/coronavi...</td>\n",
       "      <td>https://www.thehindu.com/news/national/coronav...</td>\n",
       "      <td>TG</td>\n",
       "      <td>TS-P1</td>\n",
       "      <td>02/03/2020</td>\n",
       "      <td>Imported</td>\n",
       "    </tr>\n",
       "  </tbody>\n",
       "</table>\n",
       "</div>"
      ],
      "text/plain": [
       "  agebracket                                 backupnotes  \\\n",
       "0         20                          Student from Wuhan   \n",
       "1                                     Student from Wuhan   \n",
       "2                                     Student from Wuhan   \n",
       "3         45         Travel history to Italy and Austria   \n",
       "4         24  Travel history to Dubai, Singapore contact   \n",
       "\n",
       "  contractedfromwhichpatientsuspected currentstatus dateannounced  \\\n",
       "0                                         Recovered    30/01/2020   \n",
       "1                                         Recovered    02/02/2020   \n",
       "2                                         Recovered    03/02/2020   \n",
       "3                                         Recovered    02/03/2020   \n",
       "4                                         Recovered    02/03/2020   \n",
       "\n",
       "               detectedcity detecteddistrict detectedstate estimatedonsetdate  \\\n",
       "0                  Thrissur         Thrissur        Kerala                      \n",
       "1                 Alappuzha        Alappuzha        Kerala                      \n",
       "2                 Kasaragod        Kasaragod        Kerala                      \n",
       "3  East Delhi (Mayur Vihar)       East Delhi         Delhi                      \n",
       "4                 Hyderabad        Hyderabad     Telangana                      \n",
       "\n",
       "  gender nationality                                              notes  \\\n",
       "0      F       India                               Travelled from Wuhan   \n",
       "1              India                               Travelled from Wuhan   \n",
       "2              India                               Travelled from Wuhan   \n",
       "3      M       India                      Travelled from Austria, Italy   \n",
       "4      M       India  Travelled from Dubai to Bangalore on 20th Feb,...   \n",
       "\n",
       "  patientnumber                                            source1  \\\n",
       "0             1  https://twitter.com/vijayanpinarayi/status/122...   \n",
       "1             2  https://www.indiatoday.in/india/story/kerala-r...   \n",
       "2             3  https://www.indiatoday.in/india/story/kerala-n...   \n",
       "3             4  https://www.indiatoday.in/india/story/not-a-ja...   \n",
       "4             5  https://www.deccanherald.com/national/south/qu...   \n",
       "\n",
       "                                             source2  \\\n",
       "0  https://weather.com/en-IN/india/news/news/2020...   \n",
       "1  https://weather.com/en-IN/india/news/news/2020...   \n",
       "2  https://twitter.com/ANI/status/122422148580539...   \n",
       "3  https://economictimes.indiatimes.com/news/poli...   \n",
       "4  https://www.indiatoday.in/india/story/coronavi...   \n",
       "\n",
       "                                             source3 statecode  \\\n",
       "0                                                           KL   \n",
       "1                                                           KL   \n",
       "2  https://weather.com/en-IN/india/news/news/2020...        KL   \n",
       "3                                                           DL   \n",
       "4  https://www.thehindu.com/news/national/coronav...        TG   \n",
       "\n",
       "  statepatientnumber statuschangedate typeoftransmission  \n",
       "0           KL-TS-P1       14/02/2020           Imported  \n",
       "1           KL-AL-P1       14/02/2020           Imported  \n",
       "2           KL-KS-P1       14/02/2020           Imported  \n",
       "3              DL-P1       15/03/2020           Imported  \n",
       "4              TS-P1       02/03/2020           Imported  "
      ]
     },
     "execution_count": 95,
     "metadata": {},
     "output_type": "execute_result"
    }
   ],
   "source": [
    "df = pd.DataFrame(new_dict)\n",
    "df.head()"
   ]
  },
  {
   "cell_type": "code",
   "execution_count": 96,
   "metadata": {},
   "outputs": [
    {
     "name": "stdout",
     "output_type": "stream",
     "text": [
      "<class 'pandas.core.frame.DataFrame'>\n",
      "RangeIndex: 6883 entries, 0 to 6882\n",
      "Data columns (total 20 columns):\n",
      " #   Column                               Non-Null Count  Dtype \n",
      "---  ------                               --------------  ----- \n",
      " 0   agebracket                           6883 non-null   object\n",
      " 1   backupnotes                          6883 non-null   object\n",
      " 2   contractedfromwhichpatientsuspected  6883 non-null   object\n",
      " 3   currentstatus                        6883 non-null   object\n",
      " 4   dateannounced                        6883 non-null   object\n",
      " 5   detectedcity                         6883 non-null   object\n",
      " 6   detecteddistrict                     6883 non-null   object\n",
      " 7   detectedstate                        6883 non-null   object\n",
      " 8   estimatedonsetdate                   6883 non-null   object\n",
      " 9   gender                               6883 non-null   object\n",
      " 10  nationality                          6883 non-null   object\n",
      " 11  notes                                6883 non-null   object\n",
      " 12  patientnumber                        6883 non-null   object\n",
      " 13  source1                              6883 non-null   object\n",
      " 14  source2                              6883 non-null   object\n",
      " 15  source3                              6883 non-null   object\n",
      " 16  statecode                            6883 non-null   object\n",
      " 17  statepatientnumber                   6883 non-null   object\n",
      " 18  statuschangedate                     6883 non-null   object\n",
      " 19  typeoftransmission                   6883 non-null   object\n",
      "dtypes: object(20)\n",
      "memory usage: 1.1+ MB\n"
     ]
    }
   ],
   "source": [
    "df.info()"
   ]
  },
  {
   "cell_type": "code",
   "execution_count": 97,
   "metadata": {},
   "outputs": [],
   "source": [
    "df.drop(['source1', 'source2', 'source3', 'detectedcity', 'patientnumber', 'estimatedonsetdate', 'backupnotes', 'contractedfromwhichpatientsuspected', 'notes', 'statepatientnumber'], axis = 1, inplace = True)"
   ]
  },
  {
   "cell_type": "code",
   "execution_count": 98,
   "metadata": {},
   "outputs": [
    {
     "data": {
      "text/html": [
       "<div>\n",
       "<style scoped>\n",
       "    .dataframe tbody tr th:only-of-type {\n",
       "        vertical-align: middle;\n",
       "    }\n",
       "\n",
       "    .dataframe tbody tr th {\n",
       "        vertical-align: top;\n",
       "    }\n",
       "\n",
       "    .dataframe thead th {\n",
       "        text-align: right;\n",
       "    }\n",
       "</style>\n",
       "<table border=\"1\" class=\"dataframe\">\n",
       "  <thead>\n",
       "    <tr style=\"text-align: right;\">\n",
       "      <th></th>\n",
       "      <th>agebracket</th>\n",
       "      <th>currentstatus</th>\n",
       "      <th>dateannounced</th>\n",
       "      <th>detecteddistrict</th>\n",
       "      <th>detectedstate</th>\n",
       "      <th>gender</th>\n",
       "      <th>nationality</th>\n",
       "      <th>statecode</th>\n",
       "      <th>statuschangedate</th>\n",
       "      <th>typeoftransmission</th>\n",
       "    </tr>\n",
       "  </thead>\n",
       "  <tbody>\n",
       "    <tr>\n",
       "      <th>0</th>\n",
       "      <td>20</td>\n",
       "      <td>Recovered</td>\n",
       "      <td>30/01/2020</td>\n",
       "      <td>Thrissur</td>\n",
       "      <td>Kerala</td>\n",
       "      <td>F</td>\n",
       "      <td>India</td>\n",
       "      <td>KL</td>\n",
       "      <td>14/02/2020</td>\n",
       "      <td>Imported</td>\n",
       "    </tr>\n",
       "    <tr>\n",
       "      <th>1</th>\n",
       "      <td></td>\n",
       "      <td>Recovered</td>\n",
       "      <td>02/02/2020</td>\n",
       "      <td>Alappuzha</td>\n",
       "      <td>Kerala</td>\n",
       "      <td></td>\n",
       "      <td>India</td>\n",
       "      <td>KL</td>\n",
       "      <td>14/02/2020</td>\n",
       "      <td>Imported</td>\n",
       "    </tr>\n",
       "    <tr>\n",
       "      <th>2</th>\n",
       "      <td></td>\n",
       "      <td>Recovered</td>\n",
       "      <td>03/02/2020</td>\n",
       "      <td>Kasaragod</td>\n",
       "      <td>Kerala</td>\n",
       "      <td></td>\n",
       "      <td>India</td>\n",
       "      <td>KL</td>\n",
       "      <td>14/02/2020</td>\n",
       "      <td>Imported</td>\n",
       "    </tr>\n",
       "    <tr>\n",
       "      <th>3</th>\n",
       "      <td>45</td>\n",
       "      <td>Recovered</td>\n",
       "      <td>02/03/2020</td>\n",
       "      <td>East Delhi</td>\n",
       "      <td>Delhi</td>\n",
       "      <td>M</td>\n",
       "      <td>India</td>\n",
       "      <td>DL</td>\n",
       "      <td>15/03/2020</td>\n",
       "      <td>Imported</td>\n",
       "    </tr>\n",
       "    <tr>\n",
       "      <th>4</th>\n",
       "      <td>24</td>\n",
       "      <td>Recovered</td>\n",
       "      <td>02/03/2020</td>\n",
       "      <td>Hyderabad</td>\n",
       "      <td>Telangana</td>\n",
       "      <td>M</td>\n",
       "      <td>India</td>\n",
       "      <td>TG</td>\n",
       "      <td>02/03/2020</td>\n",
       "      <td>Imported</td>\n",
       "    </tr>\n",
       "  </tbody>\n",
       "</table>\n",
       "</div>"
      ],
      "text/plain": [
       "  agebracket currentstatus dateannounced detecteddistrict detectedstate  \\\n",
       "0         20     Recovered    30/01/2020         Thrissur        Kerala   \n",
       "1                Recovered    02/02/2020        Alappuzha        Kerala   \n",
       "2                Recovered    03/02/2020        Kasaragod        Kerala   \n",
       "3         45     Recovered    02/03/2020       East Delhi         Delhi   \n",
       "4         24     Recovered    02/03/2020        Hyderabad     Telangana   \n",
       "\n",
       "  gender nationality statecode statuschangedate typeoftransmission  \n",
       "0      F       India        KL       14/02/2020           Imported  \n",
       "1              India        KL       14/02/2020           Imported  \n",
       "2              India        KL       14/02/2020           Imported  \n",
       "3      M       India        DL       15/03/2020           Imported  \n",
       "4      M       India        TG       02/03/2020           Imported  "
      ]
     },
     "execution_count": 98,
     "metadata": {},
     "output_type": "execute_result"
    }
   ],
   "source": [
    "df.head()"
   ]
  },
  {
   "cell_type": "code",
   "execution_count": 101,
   "metadata": {},
   "outputs": [
    {
     "name": "stdout",
     "output_type": "stream",
     "text": [
      "(6883, 10)\n"
     ]
    },
    {
     "data": {
      "text/plain": [
       "(1086, 10)"
      ]
     },
     "execution_count": 101,
     "metadata": {},
     "output_type": "execute_result"
    }
   ],
   "source": [
    "print(df.shape)\n",
    "df = df.loc[df['agebracket'] != '']\n",
    "df.shape"
   ]
  },
  {
   "cell_type": "code",
   "execution_count": 103,
   "metadata": {},
   "outputs": [
    {
     "name": "stdout",
     "output_type": "stream",
     "text": [
      "['20' '45' '24' '69' '55' '70' '16' '27' '59' '65' '75' '54' '53' '61'\n",
      " '25' '63' '3' '48' '40' '13' '96' '89' '85' '46' '68' '26' '76' '33' '37'\n",
      " '43' '21' '32' '47' '42' '44' '51' '31' '29' '67' '49' '52' '22' '18'\n",
      " '34' '28' '56' '35' '50' '30' '38' '23' '19' '58' '41' '2' '60' '74' '39'\n",
      " '17' '36' '57' '64' '81' '62' '9' '7' '66' '12' '1' '14' '11' '6' '73'\n",
      " '28-35' '92' '72' '15' '77' '10' '80' '71' '78' '90' '4' '8']\n",
      "['Recovered' 'Hospitalized' 'Deceased']\n",
      "['30/01/2020' '02/03/2020' '03/03/2020' '04/03/2020' '05/03/2020'\n",
      " '07/03/2020' '08/03/2020' '09/03/2020' '10/03/2020' '11/03/2020'\n",
      " '12/03/2020' '14/03/2020' '15/03/2020' '16/03/2020' '17/03/2020'\n",
      " '18/03/2020' '19/03/2020' '20/03/2020' '21/03/2020' '22/03/2020'\n",
      " '23/03/2020' '24/03/2020' '25/03/2020' '26/03/2020' '27/03/2020'\n",
      " '28/03/2020' '29/03/2020' '30/03/2020' '31/03/2020' '01/04/2020'\n",
      " '02/04/2020' '03/04/2020' '04/04/2020' '05/04/2020' '06/04/2020'\n",
      " '07/04/2020' '08/04/2020' '09/04/2020' '10/04/2020']\n",
      "['Thrissur' 'East Delhi' 'Hyderabad' 'Italians*' 'Agra' 'South West Delhi'\n",
      " 'Ghaziabad' 'Leh' 'Kancheepuram' 'Pathanamthitta' 'North Delhi' 'Jammu'\n",
      " 'Kannur' 'Bengaluru' 'Pune' 'Jaipur' 'Mumbai' 'S.P.S. Nellore'\n",
      " 'Kalaburagi' 'Nagpur' 'Thane' 'Aurangabad' 'Yavatmal' 'Khordha'\n",
      " 'Gurugram' 'Mahe' 'Gautam Buddha Nagar' 'Kolkata' 'Lucknow' 'Chennai'\n",
      " 'Ratnagiri' 'Srinagar' 'Jhunjhunu' 'North East Delhi' 'Chandigarh'\n",
      " 'Kodagu' 'Prakasam' 'Raipur' 'Shahid Bhagat Singh Nagar' 'Kasaragod'\n",
      " 'Rajkot' 'Surat' 'Ahmadnagar' 'Visakhapatnam' 'North West Delhi'\n",
      " 'South Delhi' 'S.A.S. Nagar' 'Ahmadabad' 'Vadodara' 'Faridabad' 'Panipat'\n",
      " 'Kangra' 'Jabalpur' 'Karimnagar' 'West Delhi' 'North 24 Parganas' ''\n",
      " 'Chikkaballapura' 'Panchkula' 'Gandhinagar' 'Moradabad' 'Erode'\n",
      " 'Hoshiarpur' 'Mysuru' 'Sonipat' 'Kachchh' 'East Godavari' 'Krishna'\n",
      " 'Varanasi' 'Dharwad' 'Coimbatore' 'Munger' 'Bhopal'\n",
      " 'Bhadradri Kothagudem' 'Uttara Kannada' 'Malappuram' 'Kozhikode'\n",
      " 'Ernakulam' 'Tirunelveli' 'Jodhpur' 'Dehradun' 'Satara' 'Pilibhit'\n",
      " 'Tiruppur' 'Madurai' 'Patna' 'Jaunpur' 'Imphal West' 'Dakshina Kannada'\n",
      " 'Ranga Reddy' 'Bandipore' 'Chittoor' 'Ujjain' 'Gwalior' 'Aizawl' 'Salem'\n",
      " 'Udupi' 'Chitradurga' 'Ludhiana' 'Pauri Garhwal' 'Rajnandgaon' 'Vellore'\n",
      " 'Guntur' 'North Goa' 'Baghpat' 'Medchal Malkajgiri' 'Tiruchirappalli'\n",
      " 'North and Middle Andaman' 'Indore' 'Tumakuru' 'Kollam' 'South Andaman'\n",
      " 'Davanagere' 'Nadia' 'Chengalpattu' 'Thanjavur' 'Ajmer' 'Bhilwara'\n",
      " 'Virudhunagar' 'Medinipur East' 'Meerut' 'Kurnool' 'Kalimpong'\n",
      " 'Lakhisarai' 'Ambala' 'Thiruvananthapuram' 'Hooghly' 'Evacuees'\n",
      " 'Bhavnagar' 'Karur' 'Ballari' 'Dungarpur' 'Gopalganj' 'Howrah'\n",
      " 'South 24 Parganas' 'Tiruvannamalai' 'Anantapur' 'Ranchi' 'Cachar'\n",
      " 'Kanniyakumari' 'Siwan' 'Bhadrak' 'Puducherry' 'West Godavari' 'Y.S.R.'\n",
      " 'Theni' 'Dindigul' 'Sivaganga' 'Tirupathur' 'Thiruvarur' 'Porbandar'\n",
      " 'Panch Mahals' 'Bidar' 'Idukki' 'Chhindwara' 'Bagalkote' 'Belagavi'\n",
      " 'Gaya' 'Korba' 'Bengaluru Rural' 'Pathankot' 'Faridkot' 'Bhagalpur'\n",
      " 'Chota Udaipur' 'Barnala' 'Jamnagar' 'Morbi' 'Patan' 'Mahesana'\n",
      " 'Kapurthala' 'Rupnagar' 'Amritsar' 'Kendrapara' 'Anand' 'Sabar Kantha'\n",
      " 'Gadag' 'Mandya' 'Moga' 'Begusarai' 'Jalandhar' 'Nawada' 'Dhenkanal']\n",
      "['Kerala' 'Delhi' 'Telangana' 'Rajasthan' 'Haryana' 'Uttar Pradesh'\n",
      " 'Ladakh' 'Tamil Nadu' 'Jammu and Kashmir' 'Karnataka' 'Maharashtra'\n",
      " 'Andhra Pradesh' 'Odisha' 'Puducherry' 'West Bengal' 'Chandigarh'\n",
      " 'Chhattisgarh' 'Punjab' 'Gujarat' 'Himachal Pradesh' 'Madhya Pradesh'\n",
      " 'Bihar' 'Uttarakhand' 'Manipur' 'Mizoram' 'Goa'\n",
      " 'Andaman and Nicobar Islands' 'Jharkhand' 'Assam']\n",
      "['F' 'M' '']\n",
      "['India' 'Italy' 'Phillipines' 'Indonesia' 'Thailand'\n",
      " 'United States of America' 'United Kingdom' 'Tibet' '' 'Malaysia'\n",
      " 'Myanmar' 'Indian']\n",
      "['KL' 'DL' 'TG' 'RJ' 'HR' 'UP' 'LA' 'TN' 'JK' 'KA' 'MH' 'AP' 'OR' 'PY'\n",
      " 'WB' 'CH' 'CT' 'PB' 'GJ' 'HP' 'MP' 'BR' 'UT' 'MN' 'MZ' 'GA' 'AN' 'JH'\n",
      " 'AS']\n",
      "['14/02/2020' '15/03/2020' '02/03/2020' '03/03/2020' '29/03/2020'\n",
      " '04/03/2020' '05/03/2020' '07/03/2020' '27/03/2020' '09/03/2020'\n",
      " '26/03/2020' '20/03/2020' '24/03/2020' '31/03/2020' '10/03/2020'\n",
      " '11/03/2020' '01/04/2020' '12/03/2020' '14/03/2020' '16/03/2020'\n",
      " '17/03/2020' '18/03/2020' '19/03/2020' '28/03/2020' '21/03/2020'\n",
      " '22/03/2020' '23/03/2020' '25/03/2020' '03/04/2020' '06/04/2020' ''\n",
      " '05/04/2020' '04/04/2020' '30/03/2020' '02/04/2020' '07/04/2020'\n",
      " '08/04/2020' '09/04/2020' '10/04/2020']\n",
      "['Imported' 'Local' 'TBD' '']\n"
     ]
    }
   ],
   "source": [
    "for col in df.columns:\n",
    "    print(df[col].unique())"
   ]
  },
  {
   "cell_type": "code",
   "execution_count": 104,
   "metadata": {},
   "outputs": [
    {
     "name": "stdout",
     "output_type": "stream",
     "text": [
      "(1086, 10)\n"
     ]
    },
    {
     "data": {
      "text/plain": [
       "(1016, 10)"
      ]
     },
     "execution_count": 104,
     "metadata": {},
     "output_type": "execute_result"
    }
   ],
   "source": [
    "print(df.shape)\n",
    "df = df.loc[df['gender'] != '']\n",
    "df.shape"
   ]
  },
  {
   "cell_type": "code",
   "execution_count": 108,
   "metadata": {},
   "outputs": [],
   "source": [
    "df.loc[df['agebracket'] == '28-35', 'agebracket'] = '32'"
   ]
  },
  {
   "cell_type": "code",
   "execution_count": 109,
   "metadata": {},
   "outputs": [],
   "source": [
    "df['agebracket'] = pd.to_numeric(df['agebracket'])"
   ]
  },
  {
   "cell_type": "code",
   "execution_count": 110,
   "metadata": {},
   "outputs": [
    {
     "name": "stdout",
     "output_type": "stream",
     "text": [
      "<class 'pandas.core.frame.DataFrame'>\n",
      "Int64Index: 1016 entries, 0 to 6770\n",
      "Data columns (total 10 columns):\n",
      " #   Column              Non-Null Count  Dtype \n",
      "---  ------              --------------  ----- \n",
      " 0   agebracket          1016 non-null   int64 \n",
      " 1   currentstatus       1016 non-null   object\n",
      " 2   dateannounced       1016 non-null   object\n",
      " 3   detecteddistrict    1016 non-null   object\n",
      " 4   detectedstate       1016 non-null   object\n",
      " 5   gender              1016 non-null   object\n",
      " 6   nationality         1016 non-null   object\n",
      " 7   statecode           1016 non-null   object\n",
      " 8   statuschangedate    1016 non-null   object\n",
      " 9   typeoftransmission  1016 non-null   object\n",
      "dtypes: int64(1), object(9)\n",
      "memory usage: 87.3+ KB\n"
     ]
    }
   ],
   "source": [
    "df.info()"
   ]
  },
  {
   "cell_type": "code",
   "execution_count": 115,
   "metadata": {},
   "outputs": [
    {
     "data": {
      "text/plain": [
       "<matplotlib.axes._subplots.AxesSubplot at 0x22b94ca2670>"
      ]
     },
     "execution_count": 115,
     "metadata": {},
     "output_type": "execute_result"
    },
    {
     "data": {
      "image/png": "[encoded data removed]",
      "text/plain": [
       "<Figure size 432x288 with 1 Axes>"
      ]
     },
     "metadata": {
      "needs_background": "light"
     },
     "output_type": "display_data"
    }
   ],
   "source": [
    "df.groupby('currentstatus')['agebracket'].mean().plot(kind='bar')"
   ]
  },
  {
   "cell_type": "code",
   "execution_count": 117,
   "metadata": {},
   "outputs": [
    {
     "data": {
      "text/plain": [
       "<matplotlib.axes._subplots.AxesSubplot at 0x22b94cede50>"
      ]
     },
     "execution_count": 117,
     "metadata": {},
     "output_type": "execute_result"
    },
    {
     "data": {
      "image/png": "[encoded data removed]",
      "text/plain": [
       "<Figure size 432x288 with 1 Axes>"
      ]
     },
     "metadata": {
      "needs_background": "light"
     },
     "output_type": "display_data"
    }
   ],
   "source": [
    "sns.distplot(df['agebracket'])"
   ]
  },
  {
   "cell_type": "code",
   "execution_count": 119,
   "metadata": {},
   "outputs": [
    {
     "data": {
      "text/plain": [
       "<matplotlib.axes._subplots.AxesSubplot at 0x22b94de9ca0>"
      ]
     },
     "execution_count": 119,
     "metadata": {},
     "output_type": "execute_result"
    },
    {
     "data": {
      "image/png": "[encoded data removed]",
      "text/plain": [
       "<Figure size 432x288 with 1 Axes>"
      ]
     },
     "metadata": {
      "needs_background": "light"
     },
     "output_type": "display_data"
    }
   ],
   "source": [
    "sns.boxplot(y='agebracket', hue='currentstatus', data = df)"
   ]
  },
  {
   "cell_type": "code",
   "execution_count": null,
   "metadata": {},
   "outputs": [],
   "source": []
  }
 ],
 "metadata": {
  "kernelspec": {
   "display_name": "Python 3",
   "language": "python",
   "name": "python3"
  },
  "language_info": {
   "codemirror_mode": {
    "name": "ipython",
    "version": 3
   },
   "file_extension": ".py",
   "mimetype": "text/x-python",
   "name": "python",
   "nbconvert_exporter": "python",
   "pygments_lexer": "ipython3",
   "version": "3.8.2"
  }
 },
 "nbformat": 4,
 "nbformat_minor": 4
}
